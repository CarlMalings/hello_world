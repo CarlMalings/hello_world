{
  "nbformat": 4,
  "nbformat_minor": 0,
  "metadata": {
    "colab": {
      "provenance": []
    },
    "kernelspec": {
      "name": "python3",
      "display_name": "Python 3"
    },
    "language_info": {
      "name": "python"
    }
  },
  "cells": [
    {
      "cell_type": "markdown",
      "source": [
        "Test Code"
      ],
      "metadata": {
        "id": "UNVkz02XmnZD"
      }
    },
    {
      "cell_type": "code",
      "execution_count": null,
      "metadata": {
        "id": "2bqOx-NHmjja"
      },
      "outputs": [],
      "source": [
        "print('Hello, world!')"
      ]
    },
    {
      "cell_type": "markdown",
      "source": [
        "Try Loading Packages"
      ],
      "metadata": {
        "id": "UNVkz02XmnZD"
      }
    },
    {
      "cell_type":"code",
      "execution_count":null,
      "metadata": {"id":"aaaaaaaaaaaa"},
      "outputs":[],
      "source":[
         "import earthaccess  # needed to discover and download TEMPO data",
         "import netCDF4 as nc  # needed to read TEMPO data",
         "import numpy as np",
         "import matplotlib.pyplot as plt  # needed to plot the resulting time series",
         "import cartopy.crs as ccrs",
         "import cartopy.feature as cfeature"
      ]
    }
  ]
}
